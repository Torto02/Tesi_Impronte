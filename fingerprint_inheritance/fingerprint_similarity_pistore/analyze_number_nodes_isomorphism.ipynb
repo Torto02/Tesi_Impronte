{
 "cells": [
  {
   "cell_type": "code",
   "execution_count": 1,
   "metadata": {},
   "outputs": [],
   "source": [
    "import os\n",
    "import json"
   ]
  },
  {
   "cell_type": "code",
   "execution_count": 2,
   "metadata": {},
   "outputs": [
    {
     "name": "stdout",
     "output_type": "stream",
     "text": [
      "01\n",
      "02\n",
      "03\n",
      "04\n",
      "05\n",
      "06\n",
      "07\n",
      "08\n",
      "09\n",
      "10\n",
      "11\n",
      "12\n",
      "13\n",
      "14\n",
      "15\n",
      "16\n",
      "17\n",
      "18\n",
      "19\n",
      "20\n",
      "0\n",
      "19\n",
      "28\n",
      "25\n",
      "24\n"
     ]
    }
   ],
   "source": [
    "main_folder = 'RIS_fingerprint_isomorphism_random_modified_graph'\n",
    "folder_sudies_path = 'RIS_fingerprint_images_folders_studies'\n",
    "\n",
    "folders = os.listdir(main_folder)\n",
    "folders.sort()\n",
    "#print(folders)\n",
    "\n",
    "number_edge_matches = {}\n",
    "first = True\n",
    "\n",
    "same_graph = {}\n",
    "same_finger = {}\n",
    "same_person = {}\n",
    "same_family = {}\n",
    "strangers = {}\n",
    "\n",
    "name_family_1 = '00'\n",
    "\n",
    "for folder in folders:\n",
    "    #if first:\n",
    "\n",
    "        path_current_folder = main_folder + \"/\" + folder\n",
    "        #print(folder)\n",
    "        files = os.listdir(main_folder + '/' + folder)\n",
    "\n",
    "        if 'data_matches.json' in files:\n",
    "            files.remove('data_matches.json')\n",
    "\n",
    "        name1 = folder[0:11]\n",
    "        name2 = folder[12:]\n",
    "\n",
    "        name_fam_tem = name1[0:2]\n",
    "        if name_fam_tem != name_family_1:\n",
    "            name_family_1 = name_fam_tem\n",
    "            print(name_family_1)\n",
    "\n",
    "        for file in files:\n",
    "        \n",
    "            file_json = open(path_current_folder + '/' + file,'r')\n",
    "            data_subgraphs = json.load(file_json)\n",
    "\n",
    "            if 'subgraphs' in data_subgraphs:\n",
    "\n",
    "                data_subg1 = data_subgraphs['subgraphs']['subgraph_g1']\n",
    "                nodes_sub_g1 = data_subg1['nodes']\n",
    "                score = len(nodes_sub_g1)\n",
    "\n",
    "                if name1 != name2:\n",
    "                    if name1[0:2] == name2[0:2]:\n",
    "                        if name1[3:5] == name2[3:5]:\n",
    "                            if name1[6:8] == name2[6:8]:\n",
    "                                if score not in same_finger:\n",
    "                                    same_finger[score] = 1\n",
    "                                else:\n",
    "                                    same_finger[score] = same_finger[score] + 1\n",
    "                            else:\n",
    "                                if score not in same_person:\n",
    "                                    same_person[score] = 1\n",
    "                                else:\n",
    "                                    same_person[score] = same_person[score] + 1\n",
    "                        else:\n",
    "                            if (name1[3:5] == 'B0' and name2[3:5] == 'C0') or (name1[3:5] == 'C0' and name2[3:5] == 'B0'):\n",
    "                                if score not in strangers:\n",
    "                                    strangers[score] = 1\n",
    "                                else:\n",
    "                                    strangers[score] = strangers[score] + 1\n",
    "                            else:\n",
    "                                if score not in same_family:\n",
    "                                    same_family[score] = 1\n",
    "                                else:\n",
    "                                    same_family[score] = same_family[score] + 1\n",
    "                    else:\n",
    "                        if score not in strangers:\n",
    "                            strangers[score] = 1\n",
    "                        else:\n",
    "                            strangers[score] = strangers[score] + 1\n",
    "                else:\n",
    "                    if score not in same_graph:\n",
    "                        same_graph[score] = 1\n",
    "                    else:\n",
    "                        same_graph[score] = same_graph[score] + 1\n",
    "\n",
    "\n",
    "    #first = False\n",
    "\n",
    "print(len(same_graph))\n",
    "print(len(same_finger))\n",
    "print(len(same_person))\n",
    "print(len(same_family))\n",
    "print(len(strangers))            \n",
    "\n",
    "\n",
    "data_file = {'same_graph': same_graph,\n",
    "             'same_finger': same_finger,\n",
    "             'same_person': same_person,\n",
    "             'same_family': same_family,\n",
    "             'strangers': strangers}\n",
    "\n",
    "with open('num_cluster_nodes.json', 'w') as file_json_out:\n",
    "            json.dump(data_file,file_json_out)"
   ]
  },
  {
   "cell_type": "code",
   "execution_count": 3,
   "metadata": {},
   "outputs": [
    {
     "name": "stdout",
     "output_type": "stream",
     "text": [
      "[ 2  3  4  5  6  8 12  7 14  9 10 11 13 16 15 17 21 24 18 20 79 31 34 28\n",
      " 19 30 27 26]\n",
      "[852403 133758  38087  14587   6520   1863    231   3379     72    992\n",
      "    554    377    181     25     54     48     18      1     15     16\n",
      "      4      1      1      5     12      3      3      2]\n"
     ]
    },
    {
     "data": {
      "text/plain": [
       "array([34, 31, 24, 26, 30, 27, 79, 28, 19, 18, 20, 21, 16, 17, 15, 14, 13,\n",
       "       12, 11, 10,  9,  8,  7,  6,  5,  4,  3,  2])"
      ]
     },
     "execution_count": 3,
     "metadata": {},
     "output_type": "execute_result"
    }
   ],
   "source": [
    "import numpy as np\n",
    "#print(same_person.keys())\n",
    "same_person_key_array = np.array(list(same_person.keys()))\n",
    "print(same_person_key_array)\n",
    "#print(same_person.values())\n",
    "same_person_val_array = np.array(list(same_person.values()))\n",
    "print(same_person_val_array)\n",
    "sorted_values_index_person = np.argsort(same_person_val_array)\n",
    "same_person_key_array[sorted_values_index_person]"
   ]
  },
  {
   "cell_type": "code",
   "execution_count": 4,
   "metadata": {},
   "outputs": [
    {
     "name": "stdout",
     "output_type": "stream",
     "text": [
      "[ 2  5  4  3  8  6 10 12  7  9 11 19 15 16 22 13 14 17 25 18 21 24 20 23\n",
      " 28]\n",
      "[1159537   18999   50618  179546    2373    8296     700     255    4214\n",
      "    1295     450      28     109      41      10     163     129      55\n",
      "       5      26       3      10       2       1       8]\n",
      "[23 20 21 25 28 24 22 18 19 16 17 15 14 13 12 11 10  9  8  7  6  5  4  3\n",
      "  2]\n"
     ]
    }
   ],
   "source": [
    "#print(same_person.keys())\n",
    "same_family_key_array = np.array(list(same_family.keys()))\n",
    "print(same_family_key_array)\n",
    "#print(same_person.values())\n",
    "same_family_val_array = np.array(list(same_family.values()))\n",
    "print(same_family_val_array)\n",
    "sorted_values_index_family = np.argsort(same_family_val_array)\n",
    "print(same_family_key_array[sorted_values_index_family])"
   ]
  },
  {
   "cell_type": "code",
   "execution_count": 5,
   "metadata": {},
   "outputs": [
    {
     "name": "stdout",
     "output_type": "stream",
     "text": [
      "[ 2  3  6  5  4  7  8 10  9 17 13 12 14 11 15 16 20 25 22 18 19 23 21 24]\n",
      "[1635613  252640   12066   26635   71003    5910    2994     971    1768\n",
      "      38     226     367     159     597     120      78      13       1\n",
      "      11      23      26       4      14       5]\n"
     ]
    },
    {
     "data": {
      "text/plain": [
       "array([25, 23, 24, 22, 20, 21, 18, 19, 17, 16, 15, 14, 13, 12, 11, 10,  9,\n",
       "        8,  7,  6,  5,  4,  3,  2])"
      ]
     },
     "execution_count": 5,
     "metadata": {},
     "output_type": "execute_result"
    }
   ],
   "source": [
    "#print(same_person.keys())\n",
    "same_strangers_key_array = np.array(list(strangers.keys()))\n",
    "print(same_strangers_key_array)\n",
    "#print(same_person.values())\n",
    "same_strangers_val_array = np.array(list(strangers.values()))\n",
    "print(same_strangers_val_array)\n",
    "sorted_values_index_strangers = np.argsort(same_strangers_val_array)\n",
    "same_strangers_key_array[sorted_values_index_strangers]"
   ]
  },
  {
   "cell_type": "code",
   "execution_count": 6,
   "metadata": {},
   "outputs": [
    {
     "name": "stdout",
     "output_type": "stream",
     "text": [
      "[ 2  3  4  6  5 10  7  8  9 11 15 12 13 21 20 14 18 62 16]\n",
      "[41254  7010  2083   418   876    44   239   127    62    35    10    24\n",
      "     4     4     5     5     1     6     1]\n"
     ]
    },
    {
     "data": {
      "text/plain": [
       "array([16, 18, 21, 13, 14, 20, 62, 15, 12, 11, 10,  9,  8,  7,  6,  5,  4,\n",
       "        3,  2])"
      ]
     },
     "execution_count": 6,
     "metadata": {},
     "output_type": "execute_result"
    }
   ],
   "source": [
    "#print(same_person.keys())\n",
    "same_finger_key_array = np.array(list(same_finger.keys()))\n",
    "print(same_finger_key_array)\n",
    "#print(same_person.values())\n",
    "same_finger_val_array = np.array(list(same_finger.values()))\n",
    "print(same_finger_val_array)\n",
    "sorted_values_index_finger = np.argsort(same_finger_val_array)\n",
    "same_finger_key_array[sorted_values_index_finger]"
   ]
  },
  {
   "cell_type": "code",
   "execution_count": 7,
   "metadata": {},
   "outputs": [
    {
     "name": "stdout",
     "output_type": "stream",
     "text": [
      "62\n",
      "6\n",
      "79\n",
      "4\n",
      "28\n",
      "8\n",
      "25\n",
      "1\n"
     ]
    }
   ],
   "source": [
    "print(max(same_finger_key_array))\n",
    "print(same_finger[max(same_finger_key_array)])\n",
    "print(max(same_person_key_array))\n",
    "print(same_person[max(same_person_key_array)])\n",
    "print(max(same_family_key_array))\n",
    "print(same_family[max(same_family_key_array)])\n",
    "print(max(same_strangers_key_array))\n",
    "print(strangers[max(same_strangers_key_array)])"
   ]
  },
  {
   "cell_type": "code",
   "execution_count": 8,
   "metadata": {},
   "outputs": [
    {
     "name": "stdout",
     "output_type": "stream",
     "text": [
      "52208\n"
     ]
    },
    {
     "data": {
      "text/plain": [
       "52208"
      ]
     },
     "execution_count": 8,
     "metadata": {},
     "output_type": "execute_result"
    }
   ],
   "source": [
    "same_finger_esploded = []\n",
    "\n",
    "for k,v in same_finger.items():\n",
    "    to_add = [k for e in range(0,v)]\n",
    "    same_finger_esploded.extend(to_add)\n",
    "\n",
    "print(sum(same_finger_val_array))\n",
    "len(same_finger_esploded)"
   ]
  },
  {
   "cell_type": "code",
   "execution_count": 9,
   "metadata": {},
   "outputs": [
    {
     "name": "stdout",
     "output_type": "stream",
     "text": [
      "1053212\n"
     ]
    },
    {
     "data": {
      "text/plain": [
       "1053212"
      ]
     },
     "execution_count": 9,
     "metadata": {},
     "output_type": "execute_result"
    }
   ],
   "source": [
    "same_person_esploded = []\n",
    "\n",
    "for k,v in same_person.items():\n",
    "    to_add = [k for e in range(0,v)]\n",
    "    same_person_esploded.extend(to_add)\n",
    "\n",
    "print(sum(same_person_val_array))\n",
    "len(same_person_esploded)"
   ]
  },
  {
   "cell_type": "code",
   "execution_count": 10,
   "metadata": {},
   "outputs": [
    {
     "name": "stdout",
     "output_type": "stream",
     "text": [
      "1426873\n"
     ]
    },
    {
     "data": {
      "text/plain": [
       "1426873"
      ]
     },
     "execution_count": 10,
     "metadata": {},
     "output_type": "execute_result"
    }
   ],
   "source": [
    "same_family_esploded = []\n",
    "\n",
    "for k,v in same_family.items():\n",
    "    to_add = [k for e in range(0,v)]\n",
    "    same_family_esploded.extend(to_add)\n",
    "\n",
    "print(sum(same_family_val_array))\n",
    "len(same_family_esploded)"
   ]
  },
  {
   "cell_type": "code",
   "execution_count": 11,
   "metadata": {},
   "outputs": [
    {
     "name": "stdout",
     "output_type": "stream",
     "text": [
      "2011282\n"
     ]
    },
    {
     "data": {
      "text/plain": [
       "2011282"
      ]
     },
     "execution_count": 11,
     "metadata": {},
     "output_type": "execute_result"
    }
   ],
   "source": [
    "strangers_esploded = []\n",
    "\n",
    "for k,v in strangers.items():\n",
    "    to_add = [k for e in range(0,v)]\n",
    "    strangers_esploded.extend(to_add)\n",
    "\n",
    "print(sum(same_strangers_val_array))\n",
    "len(strangers_esploded)"
   ]
  },
  {
   "cell_type": "code",
   "execution_count": 12,
   "metadata": {},
   "outputs": [],
   "source": [
    "data_file = {'same_graph': same_graph,\n",
    "             'same_finger': same_finger,\n",
    "             'same_person': same_person,\n",
    "             'same_family': same_family,\n",
    "             'strangers': strangers}\n",
    "\n",
    "with open('num_cluster_nodes.json', 'w') as file_json_out:\n",
    "            json.dump(data_file,file_json_out)"
   ]
  },
  {
   "cell_type": "code",
   "execution_count": null,
   "metadata": {},
   "outputs": [],
   "source": []
  }
 ],
 "metadata": {
  "kernelspec": {
   "display_name": "Python 3",
   "language": "python",
   "name": "python3"
  },
  "language_info": {
   "codemirror_mode": {
    "name": "ipython",
    "version": 3
   },
   "file_extension": ".py",
   "mimetype": "text/x-python",
   "name": "python",
   "nbconvert_exporter": "python",
   "pygments_lexer": "ipython3",
   "version": "3.8.10"
  },
  "orig_nbformat": 4
 },
 "nbformat": 4,
 "nbformat_minor": 2
}
